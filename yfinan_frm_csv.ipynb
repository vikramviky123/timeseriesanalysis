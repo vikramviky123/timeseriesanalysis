{
 "cells": [
  {
   "cell_type": "code",
   "execution_count": null,
   "metadata": {},
   "outputs": [],
   "source": [
    "# !pip install yfinance "
   ]
  },
  {
   "cell_type": "code",
   "execution_count": 1,
   "metadata": {},
   "outputs": [],
   "source": [
    "import os\n",
    "import json\n",
    "from datetime import datetime\n",
    "\n",
    "\n",
    "import yfinance as yf\n",
    "\n",
    "import pandas as pd\n",
    "import numpy as np\n",
    "\n",
    "import seaborn as sns\n",
    "import matplotlib.pyplot as plt\n",
    "\n",
    "%matplotlib inline"
   ]
  },
  {
   "cell_type": "code",
   "execution_count": null,
   "metadata": {},
   "outputs": [],
   "source": []
  },
  {
   "cell_type": "code",
   "execution_count": 3,
   "metadata": {},
   "outputs": [],
   "source": [
    "nifty50_df = pd.read_csv('nifty50.csv')\n",
    "nifty100_df = pd.read_csv('nifty100.csv')\n",
    "nifty100_pivot = pd.read_csv('nifty100_pivot.csv')"
   ]
  },
  {
   "cell_type": "code",
   "execution_count": 4,
   "metadata": {},
   "outputs": [
    {
     "data": {
      "text/plain": [
       "ABB.NS              0\n",
       "ADANIENSOL.NS    2374\n",
       "ADANIENT.NS         0\n",
       "ADANIGREEN.NS    1098\n",
       "ADANIPORTS.NS       0\n",
       "                 ... \n",
       "WIPRO.NS            0\n",
       "ZOMATO.NS        1861\n",
       "ZYDUSLIFE.NS        0\n",
       "^NSEBANK          286\n",
       "^NSEI              12\n",
       "Length: 103, dtype: int64"
      ]
     },
     "execution_count": 4,
     "metadata": {},
     "output_type": "execute_result"
    }
   ],
   "source": [
    "nifty100_pivot.isnull().sum()"
   ]
  },
  {
   "cell_type": "code",
   "execution_count": 7,
   "metadata": {},
   "outputs": [
    {
     "data": {
      "text/plain": [
       "array(['ABB.NS', 'ADANIENSOL.NS', 'ADANIENT.NS', 'ADANIGREEN.NS',\n",
       "       'ADANIPORTS.NS', 'ADANIPOWER.NS', 'AMBUJACEM.NS', 'APOLLOHOSP.NS',\n",
       "       'ASIANPAINT.NS', 'ATGL.NS', 'AXISBANK.NS', 'BAJAJ-AUTO.NS',\n",
       "       'BAJAJFINSV.NS', 'BAJAJHLDNG.NS', 'BAJFINANCE.NS', 'BANKBARODA.NS',\n",
       "       'BEL.NS', 'BERGEPAINT.NS', 'BHARTIARTL.NS', 'BOSCHLTD.NS',\n",
       "       'BPCL.NS', 'BRITANNIA.NS', 'CANBK.NS', 'CHOLAFIN.NS', 'CIPLA.NS',\n",
       "       'COALINDIA.NS', 'COLPAL.NS', 'DABUR.NS', 'DIVISLAB.NS', 'DLF.NS',\n",
       "       'DMART.NS', 'DRREDDY.NS', 'EICHERMOT.NS', 'GAIL.NS', 'GODREJCP.NS',\n",
       "       'GRASIM.NS', 'HAL.NS', 'HAVELLS.NS', 'HCLTECH.NS', 'HDFCBANK.NS',\n",
       "       'HDFCLIFE.NS', 'HEROMOTOCO.NS', 'HINDALCO.NS', 'HINDUNILVR.NS',\n",
       "       'ICICIBANK.NS', 'ICICIGI.NS', 'ICICIPRULI.NS', 'INDIGO.NS',\n",
       "       'INDUSINDBK.NS', 'INFY.NS', 'IOC.NS', 'IRCTC.NS', 'IRFC.NS',\n",
       "       'ITC.NS', 'JINDALSTEL.NS', 'JIOFIN.NS', 'JSWSTEEL.NS',\n",
       "       'KOTAKBANK.NS', 'LICI.NS', 'LT.NS', 'LTIM.NS', 'M&M.NS',\n",
       "       'MARICO.NS', 'MARUTI.NS', 'MCDOWELL-N.NS', 'MOTHERSON.NS',\n",
       "       'NAUKRI.NS', 'NESTLEIND.NS', 'NTPC.NS', 'ONGC.NS', 'PFC.NS',\n",
       "       'PIDILITIND.NS', 'PNB.NS', 'POWERGRID.NS', 'RECLTD.NS',\n",
       "       'RELIANCE.NS', 'SBICARD.NS', 'SBILIFE.NS', 'SBIN.NS',\n",
       "       'SHREECEM.NS', 'SHRIRAMFIN.NS', 'SIEMENS.NS', 'SRF.NS',\n",
       "       'SUNPHARMA.NS', 'TATACONSUM.NS', 'TATAMOTORS.NS', 'TATAMTRDVR.NS',\n",
       "       'TATAPOWER.NS', 'TATASTEEL.NS', 'TCS.NS', 'TECHM.NS', 'TITAN.NS',\n",
       "       'TORNTPHARM.NS', 'TRENT.NS', 'TVSMOTOR.NS', 'ULTRACEMCO.NS',\n",
       "       'VBL.NS', 'VEDL.NS', 'WIPRO.NS', 'ZOMATO.NS', 'ZYDUSLIFE.NS',\n",
       "       '^NSEBANK', '^NSEI'], dtype=object)"
      ]
     },
     "execution_count": 7,
     "metadata": {},
     "output_type": "execute_result"
    }
   ],
   "source": [
    "nifty100_pivot.columns.values"
   ]
  }
 ],
 "metadata": {
  "kernelspec": {
   "display_name": "base",
   "language": "python",
   "name": "python3"
  },
  "language_info": {
   "codemirror_mode": {
    "name": "ipython",
    "version": 3
   },
   "file_extension": ".py",
   "mimetype": "text/x-python",
   "name": "python",
   "nbconvert_exporter": "python",
   "pygments_lexer": "ipython3",
   "version": "3.11.5"
  }
 },
 "nbformat": 4,
 "nbformat_minor": 2
}
